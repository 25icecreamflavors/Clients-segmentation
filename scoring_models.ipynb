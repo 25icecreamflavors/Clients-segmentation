{
 "cells": [
  {
   "cell_type": "code",
   "execution_count": 709,
   "metadata": {},
   "outputs": [],
   "source": [
    "import pandas as pd\n",
    "import numpy as np"
   ]
  },
  {
   "cell_type": "code",
   "execution_count": 710,
   "metadata": {},
   "outputs": [],
   "source": [
    "df_accept = pd.read_csv(\"17_accept.csv\")\n",
    "df_reject = pd.read_csv(\"17_reject.csv\")"
   ]
  },
  {
   "cell_type": "markdown",
   "metadata": {},
   "source": [
    "> Посмотрим информацию о данных"
   ]
  },
  {
   "cell_type": "code",
   "execution_count": 711,
   "metadata": {},
   "outputs": [
    {
     "name": "stdout",
     "output_type": "stream",
     "text": [
      "<class 'pandas.core.frame.DataFrame'>\n",
      "RangeIndex: 32554 entries, 0 to 32553\n",
      "Data columns (total 15 columns):\n",
      " #   Column                     Non-Null Count  Dtype  \n",
      "---  ------                     --------------  -----  \n",
      " 0   target                     32554 non-null  int64  \n",
      " 1   INCOME_TYPE                32554 non-null  object \n",
      " 2   EDUCATION_                 32554 non-null  object \n",
      " 3   CUSTOMER_CATEGORY_         13057 non-null  object \n",
      " 4   income                     31862 non-null  float64\n",
      " 5   DEPENDANT_NUMBER           32506 non-null  float64\n",
      " 6   IS_EMPL                    32554 non-null  int64  \n",
      " 7   COUNT_ACTIVE_CREDIT_NO_CC  24236 non-null  float64\n",
      " 8   CNT_MNTH_FROM_LAST_PMNT    22482 non-null  float64\n",
      " 9   age                        32554 non-null  float64\n",
      " 10  experience                 32507 non-null  float64\n",
      " 11  inquiry_14_day             23440 non-null  float64\n",
      " 12  inquiry_21_day             23440 non-null  float64\n",
      " 13  count_mnth_act_passport    32554 non-null  float64\n",
      " 14  UID                        32554 non-null  int64  \n",
      "dtypes: float64(9), int64(3), object(3)\n",
      "memory usage: 3.7+ MB\n",
      "None\n",
      "<class 'pandas.core.frame.DataFrame'>\n",
      "RangeIndex: 10693 entries, 0 to 10692\n",
      "Data columns (total 14 columns):\n",
      " #   Column                     Non-Null Count  Dtype  \n",
      "---  ------                     --------------  -----  \n",
      " 0   INCOME_TYPE                10693 non-null  object \n",
      " 1   EDUCATION_                 10693 non-null  object \n",
      " 2   CUSTOMER_CATEGORY_         5651 non-null   object \n",
      " 3   income                     10147 non-null  float64\n",
      " 4   DEPENDANT_NUMBER           10688 non-null  float64\n",
      " 5   IS_EMPL                    10693 non-null  int64  \n",
      " 6   COUNT_ACTIVE_CREDIT_NO_CC  6285 non-null   float64\n",
      " 7   CNT_MNTH_FROM_LAST_PMNT    5226 non-null   float64\n",
      " 8   age                        10693 non-null  float64\n",
      " 9   experience                 10685 non-null  float64\n",
      " 10  inquiry_14_day             6089 non-null   float64\n",
      " 11  inquiry_21_day             6089 non-null   float64\n",
      " 12  count_mnth_act_passport    10693 non-null  float64\n",
      " 13  UID                        10693 non-null  int64  \n",
      "dtypes: float64(9), int64(2), object(3)\n",
      "memory usage: 1.1+ MB\n",
      "None\n"
     ]
    }
   ],
   "source": [
    "print(df_accept.info())\n",
    "print(df_reject.info())"
   ]
  },
  {
   "cell_type": "code",
   "execution_count": 712,
   "metadata": {},
   "outputs": [],
   "source": [
    "def my_info(df):\n",
    "    df_agg = df.agg(\n",
    "        [\n",
    "            (lambda x: x.isna().sum() / len(x) * 100),\n",
    "            \"median\",\n",
    "            \"mean\",\n",
    "            \"std\"\n",
    "            \n",
    "        ]\n",
    "    ).transpose()\n",
    "\n",
    "    df_agg.columns = [\n",
    "        \"Доля пропущенных значений\",\n",
    "        \"Медиана\",\n",
    "        \"Среднее\",\n",
    "        \"Среднеквадратическое отклонение\"\n",
    "    ]\n",
    "    return df_agg"
   ]
  },
  {
   "cell_type": "code",
   "execution_count": 713,
   "metadata": {},
   "outputs": [],
   "source": [
    "def categorical_info(df):\n",
    "    df_agg = df.agg(\n",
    "        [\n",
    "            (lambda x: x.isna().sum() / len(x) * 100),\n",
    "            (lambda x: x.value_counts().index[0]),\n",
    "        ]\n",
    "    ).transpose()\n",
    "\n",
    "    df_agg.columns = [\n",
    "        \"Доля пропущенных значений\",\n",
    "        \"Мода\",\n",
    "    ]\n",
    "    return df_agg"
   ]
  },
  {
   "cell_type": "markdown",
   "metadata": {},
   "source": [
    "### 1. Какая доля 1 в выборке \"accept\"?"
   ]
  },
  {
   "cell_type": "code",
   "execution_count": 714,
   "metadata": {},
   "outputs": [
    {
     "name": "stdout",
     "output_type": "stream",
     "text": [
      "0.021410579345088162\n"
     ]
    }
   ],
   "source": [
    "print(len(df_accept.loc[df_accept.target == 1]) / len(df_accept))"
   ]
  },
  {
   "cell_type": "markdown",
   "metadata": {},
   "source": [
    "### 2. Необходимо рассчитать для всех интервальных переменных следующее:\n",
    "\n",
    "  - Доля пропущенных значений - показаны в таблице\n",
    "  - Медиана - показаны в таблице\n",
    "  - Среднее - показаны в таблице\n",
    "  - Среднеквадратическое отклонение - показано в таблице\n",
    "  - Есть ли аномальные значения, выбросы? - Имеются отрицательные аномальные значения в CNT_MNTH_FROM_LAST_PMNT и experience , а также в count_mnth_act_passport. Некие выбросы в CNT_MNTH_FROM_LAST_PMNT, слишком большие значения.\n",
    "  - Information Value - будут перечислены ниже.\n",
    "  \n",
    "  \n",
    "### 3. Необходимо рассчитать для всех категориальных переменных следующее:\n",
    "  - Мода - показаны в таблицах\n",
    "  - Доля пропущенных значений - показаны в таблицах ниже\n",
    "  - Information Value - показаны в таблицах ниже\n",
    "  - Есть ли выбросы, аномальные значений - Видно что в столбце CNT_MNTH_FROM_LAST_PMNT есть значение около 1400, что является выбросом. Также в столбце COUNT_ACTIVE_CREDIT_NO_CC есть редкие значения 4-6. В столбце inquiry_21_day есть значения 3. Есть также какое-то аномальное значение в CNT_MNTH_FROM_LAST_PMNT, стоит отрицательное число. И выброс в столбце count_mnth_act_passport, там значение 43."
   ]
  },
  {
   "cell_type": "markdown",
   "metadata": {},
   "source": [
    "<center><h3> Информация для accept: </h3></center>"
   ]
  },
  {
   "cell_type": "code",
   "execution_count": 715,
   "metadata": {},
   "outputs": [
    {
     "data": {
      "text/html": [
       "<div>\n",
       "<style scoped>\n",
       "    .dataframe tbody tr th:only-of-type {\n",
       "        vertical-align: middle;\n",
       "    }\n",
       "\n",
       "    .dataframe tbody tr th {\n",
       "        vertical-align: top;\n",
       "    }\n",
       "\n",
       "    .dataframe thead th {\n",
       "        text-align: right;\n",
       "    }\n",
       "</style>\n",
       "<table border=\"1\" class=\"dataframe\">\n",
       "  <thead>\n",
       "    <tr style=\"text-align: right;\">\n",
       "      <th></th>\n",
       "      <th>Доля пропущенных значений</th>\n",
       "      <th>Медиана</th>\n",
       "      <th>Среднее</th>\n",
       "      <th>Среднеквадратическое отклонение</th>\n",
       "    </tr>\n",
       "  </thead>\n",
       "  <tbody>\n",
       "    <tr>\n",
       "      <th>target</th>\n",
       "      <td>0.000000</td>\n",
       "      <td>0.000000</td>\n",
       "      <td>0.021411</td>\n",
       "      <td>0.144751</td>\n",
       "    </tr>\n",
       "    <tr>\n",
       "      <th>income</th>\n",
       "      <td>2.125699</td>\n",
       "      <td>41893.500000</td>\n",
       "      <td>61106.160850</td>\n",
       "      <td>94030.425852</td>\n",
       "    </tr>\n",
       "    <tr>\n",
       "      <th>DEPENDANT_NUMBER</th>\n",
       "      <td>0.147447</td>\n",
       "      <td>0.000000</td>\n",
       "      <td>0.007045</td>\n",
       "      <td>0.104856</td>\n",
       "    </tr>\n",
       "    <tr>\n",
       "      <th>IS_EMPL</th>\n",
       "      <td>0.000000</td>\n",
       "      <td>0.000000</td>\n",
       "      <td>0.391380</td>\n",
       "      <td>0.488067</td>\n",
       "    </tr>\n",
       "    <tr>\n",
       "      <th>COUNT_ACTIVE_CREDIT_NO_CC</th>\n",
       "      <td>25.551392</td>\n",
       "      <td>0.000000</td>\n",
       "      <td>0.668180</td>\n",
       "      <td>0.833126</td>\n",
       "    </tr>\n",
       "    <tr>\n",
       "      <th>CNT_MNTH_FROM_LAST_PMNT</th>\n",
       "      <td>30.939362</td>\n",
       "      <td>0.927554</td>\n",
       "      <td>18.676595</td>\n",
       "      <td>132.500617</td>\n",
       "    </tr>\n",
       "    <tr>\n",
       "      <th>age</th>\n",
       "      <td>0.000000</td>\n",
       "      <td>34.848847</td>\n",
       "      <td>36.519102</td>\n",
       "      <td>8.217041</td>\n",
       "    </tr>\n",
       "    <tr>\n",
       "      <th>experience</th>\n",
       "      <td>0.144375</td>\n",
       "      <td>3.254098</td>\n",
       "      <td>4.925917</td>\n",
       "      <td>5.358776</td>\n",
       "    </tr>\n",
       "    <tr>\n",
       "      <th>inquiry_14_day</th>\n",
       "      <td>27.996560</td>\n",
       "      <td>0.000000</td>\n",
       "      <td>0.362415</td>\n",
       "      <td>0.612744</td>\n",
       "    </tr>\n",
       "    <tr>\n",
       "      <th>inquiry_21_day</th>\n",
       "      <td>27.996560</td>\n",
       "      <td>0.000000</td>\n",
       "      <td>0.425341</td>\n",
       "      <td>0.692285</td>\n",
       "    </tr>\n",
       "    <tr>\n",
       "      <th>count_mnth_act_passport</th>\n",
       "      <td>0.000000</td>\n",
       "      <td>7.773224</td>\n",
       "      <td>7.238117</td>\n",
       "      <td>3.342700</td>\n",
       "    </tr>\n",
       "    <tr>\n",
       "      <th>UID</th>\n",
       "      <td>0.000000</td>\n",
       "      <td>70721.000000</td>\n",
       "      <td>70507.240585</td>\n",
       "      <td>40669.133319</td>\n",
       "    </tr>\n",
       "  </tbody>\n",
       "</table>\n",
       "</div>"
      ],
      "text/plain": [
       "                           Доля пропущенных значений       Медиана  \\\n",
       "target                                      0.000000      0.000000   \n",
       "income                                      2.125699  41893.500000   \n",
       "DEPENDANT_NUMBER                            0.147447      0.000000   \n",
       "IS_EMPL                                     0.000000      0.000000   \n",
       "COUNT_ACTIVE_CREDIT_NO_CC                  25.551392      0.000000   \n",
       "CNT_MNTH_FROM_LAST_PMNT                    30.939362      0.927554   \n",
       "age                                         0.000000     34.848847   \n",
       "experience                                  0.144375      3.254098   \n",
       "inquiry_14_day                             27.996560      0.000000   \n",
       "inquiry_21_day                             27.996560      0.000000   \n",
       "count_mnth_act_passport                     0.000000      7.773224   \n",
       "UID                                         0.000000  70721.000000   \n",
       "\n",
       "                                Среднее  Среднеквадратическое отклонение  \n",
       "target                         0.021411                         0.144751  \n",
       "income                     61106.160850                     94030.425852  \n",
       "DEPENDANT_NUMBER               0.007045                         0.104856  \n",
       "IS_EMPL                        0.391380                         0.488067  \n",
       "COUNT_ACTIVE_CREDIT_NO_CC      0.668180                         0.833126  \n",
       "CNT_MNTH_FROM_LAST_PMNT       18.676595                       132.500617  \n",
       "age                           36.519102                         8.217041  \n",
       "experience                     4.925917                         5.358776  \n",
       "inquiry_14_day                 0.362415                         0.612744  \n",
       "inquiry_21_day                 0.425341                         0.692285  \n",
       "count_mnth_act_passport        7.238117                         3.342700  \n",
       "UID                        70507.240585                     40669.133319  "
      ]
     },
     "execution_count": 715,
     "metadata": {},
     "output_type": "execute_result"
    }
   ],
   "source": [
    "my_info(df_accept.select_dtypes(include=[\"int64\", \"float64\"]))"
   ]
  },
  {
   "cell_type": "code",
   "execution_count": 716,
   "metadata": {},
   "outputs": [
    {
     "data": {
      "text/html": [
       "<div>\n",
       "<style scoped>\n",
       "    .dataframe tbody tr th:only-of-type {\n",
       "        vertical-align: middle;\n",
       "    }\n",
       "\n",
       "    .dataframe tbody tr th {\n",
       "        vertical-align: top;\n",
       "    }\n",
       "\n",
       "    .dataframe thead th {\n",
       "        text-align: right;\n",
       "    }\n",
       "</style>\n",
       "<table border=\"1\" class=\"dataframe\">\n",
       "  <thead>\n",
       "    <tr style=\"text-align: right;\">\n",
       "      <th></th>\n",
       "      <th>Доля пропущенных значений</th>\n",
       "      <th>Мода</th>\n",
       "    </tr>\n",
       "  </thead>\n",
       "  <tbody>\n",
       "    <tr>\n",
       "      <th>INCOME_TYPE</th>\n",
       "      <td>0</td>\n",
       "      <td>OTHER</td>\n",
       "    </tr>\n",
       "    <tr>\n",
       "      <th>EDUCATION_</th>\n",
       "      <td>0</td>\n",
       "      <td>elementary</td>\n",
       "    </tr>\n",
       "    <tr>\n",
       "      <th>CUSTOMER_CATEGORY_</th>\n",
       "      <td>59.8913</td>\n",
       "      <td>Corporate</td>\n",
       "    </tr>\n",
       "  </tbody>\n",
       "</table>\n",
       "</div>"
      ],
      "text/plain": [
       "                   Доля пропущенных значений        Мода\n",
       "INCOME_TYPE                                0       OTHER\n",
       "EDUCATION_                                 0  elementary\n",
       "CUSTOMER_CATEGORY_                   59.8913   Corporate"
      ]
     },
     "execution_count": 716,
     "metadata": {},
     "output_type": "execute_result"
    }
   ],
   "source": [
    "categorical_info(df_accept.select_dtypes(include=[\"object\"]))"
   ]
  },
  {
   "cell_type": "code",
   "execution_count": 717,
   "metadata": {},
   "outputs": [],
   "source": [
    "def woe_iv(df, feature):\n",
    "    return (\n",
    "        pd.crosstab(df[feature], df[\"target\"], normalize=\"columns\")\n",
    "        .assign(woe=lambda dfx: np.log(dfx[1] / dfx[0])).replace({np.inf: 0, -np.inf: 0})\n",
    "        .assign(iv=lambda dfx: np.nansum(dfx[\"woe\"] * (dfx[1] - dfx[0])))\n",
    "    )"
   ]
  },
  {
   "cell_type": "markdown",
   "metadata": {},
   "source": [
    "#### WOE and IV"
   ]
  },
  {
   "cell_type": "code",
   "execution_count": 718,
   "metadata": {},
   "outputs": [
    {
     "name": "stdout",
     "output_type": "stream",
     "text": [
      "target              0         1       woe        iv\n",
      "INCOME_TYPE                                        \n",
      "2NDFL        0.332988  0.271162 -0.205390  0.018179\n",
      "OTHER        0.667012  0.728838  0.088643  0.018179 \n",
      "\n",
      "target             0         1       woe       iv\n",
      "EDUCATION_                                       \n",
      "advanced    0.259503  0.329986  0.240279  0.03764\n",
      "beginner    0.047619  0.037303 -0.244166  0.03764\n",
      "elementary  0.656025  0.576758 -0.128777  0.03764\n",
      "high        0.036852  0.055954  0.417617  0.03764 \n",
      "\n",
      "target                     0         1       woe        iv\n",
      "CUSTOMER_CATEGORY_                                        \n",
      "Corporate           0.970237  0.977273  0.007226  0.001949\n",
      "VIP                 0.029763  0.022727 -0.269710  0.001949 \n",
      "\n"
     ]
    }
   ],
   "source": [
    "cols = list(df_accept.select_dtypes(include=[\"object\"]).columns)\n",
    "cols.append(\"target\")\n",
    "\n",
    "for col in cols[:-1]:\n",
    "    print(woe_iv(df_accept[cols], col), \"\\n\")"
   ]
  },
  {
   "cell_type": "code",
   "execution_count": 719,
   "metadata": {},
   "outputs": [],
   "source": [
    "cols = list(df_accept.select_dtypes(include=[\"int64\", \"float64\"]).columns)\n",
    "num_cols_iv = []\n",
    "\n",
    "for col in cols:\n",
    "    num_cols_iv.append(str(col) + \"_range\")\n",
    "    df_accept[str(col) + \"_range\"] = pd.cut(df_accept[col], bins=10, include_lowest=True)"
   ]
  },
  {
   "cell_type": "code",
   "execution_count": 720,
   "metadata": {},
   "outputs": [],
   "source": [
    "num_cols_iv.append(\"target\")"
   ]
  },
  {
   "cell_type": "code",
   "execution_count": 721,
   "metadata": {},
   "outputs": [],
   "source": [
    "num_cols_iv.remove('target_range')"
   ]
  },
  {
   "cell_type": "code",
   "execution_count": 722,
   "metadata": {
    "scrolled": false
   },
   "outputs": [
    {
     "name": "stdout",
     "output_type": "stream",
     "text": [
      "target                           0    1       woe            iv\n",
      "income_range                                                   \n",
      "(-11450.379, 1145037.8]   0.999712  1.0  0.000288  8.312079e-08\n",
      "(1145037.8, 2290075.6]    0.000224  0.0  0.000000  8.312079e-08\n",
      "(3435113.4, 4580151.2]    0.000032  0.0  0.000000  8.312079e-08\n",
      "(10305340.2, 11450378.0]  0.000032  0.0  0.000000  8.312079e-08 \n",
      "\n",
      "target                         0         1       woe        iv\n",
      "DEPENDANT_NUMBER_range                                        \n",
      "(-0.005, 0.4]           0.994695  0.989231 -0.005508  0.004605\n",
      "(0.8, 1.2]              0.003987  0.009231  0.839581  0.004605\n",
      "(1.6, 2.0]              0.001067  0.001538  0.365648  0.004605\n",
      "(2.8, 3.2]              0.000188  0.000000  0.000000  0.004605\n",
      "(3.6, 4.0]              0.000063  0.000000  0.000000  0.004605 \n",
      "\n",
      "target                0         1       woe       iv\n",
      "IS_EMPL_range                                       \n",
      "(-0.002, 0.1]  0.601657  0.926829  0.432081  0.69151\n",
      "(0.9, 1.0]     0.398343  0.073171 -1.694517  0.69151 \n",
      "\n",
      "target                                  0         1       woe      iv\n",
      "COUNT_ACTIVE_CREDIT_NO_CC_range                                      \n",
      "(-0.008, 0.7]                    0.505742  0.386609 -0.268612  0.1153\n",
      "(0.7, 1.4]                       0.370757  0.388769  0.047439  0.1153\n",
      "(1.4, 2.1]                       0.090944  0.142549  0.449444  0.1153\n",
      "(2.8, 3.5]                       0.024313  0.045356  0.623527  0.1153\n",
      "(3.5, 4.2]                       0.005805  0.019438  1.208550  0.1153\n",
      "(4.9, 5.6]                       0.001809  0.012959  1.969138  0.1153\n",
      "(5.6, 6.3]                       0.000168  0.002160  2.552284  0.1153\n",
      "(6.3, 7.0]                       0.000463  0.002160  1.540683  0.1153 \n",
      "\n",
      "target                                0    1       woe        iv\n",
      "CNT_MNTH_FROM_LAST_PMNT_range                                   \n",
      "(-67.568, 77.006]              0.988340  1.0  0.011729  0.000137\n",
      "(77.006, 220.147]              0.001815  0.0  0.000000  0.000137\n",
      "(1222.136, 1365.277]           0.009845  0.0  0.000000  0.000137 \n",
      "\n",
      "target                   0         1       woe        iv\n",
      "age_range                                               \n",
      "(24.965, 28.394]  0.184355  0.180775 -0.019612  0.025921\n",
      "(28.394, 31.788]  0.180871  0.157819 -0.136333  0.025921\n",
      "(31.788, 35.181]  0.148915  0.140603 -0.057441  0.025921\n",
      "(35.181, 38.575]  0.118749  0.156385  0.275302  0.025921\n",
      "(38.575, 41.969]  0.106131  0.090387 -0.160565  0.025921\n",
      "(41.969, 45.363]  0.082243  0.093257  0.125685  0.025921\n",
      "(45.363, 48.757]  0.070848  0.065997 -0.070923  0.025921\n",
      "(48.757, 52.15]   0.063377  0.074605  0.163113  0.025921\n",
      "(52.15, 55.544]   0.032897  0.022956 -0.359823  0.025921\n",
      "(55.544, 58.938]  0.011614  0.017217  0.393631  0.025921 \n",
      "\n",
      "target                              0         1       woe       iv\n",
      "experience_range                                                  \n",
      "(-4.707000000000001, 5.979]  0.715694  0.848624  0.170363  0.12107\n",
      "(5.979, 16.558]              0.238722  0.139144 -0.539791  0.12107\n",
      "(16.558, 27.138]             0.036668  0.010703 -1.231359  0.12107\n",
      "(27.138, 37.717]             0.008790  0.001529 -1.749010  0.12107\n",
      "(37.717, 48.296]             0.000063  0.000000  0.000000  0.12107\n",
      "(90.613, 101.192]            0.000063  0.000000  0.000000  0.12107 \n",
      "\n",
      "target                       0         1       woe        iv\n",
      "inquiry_14_day_range                                        \n",
      "(-0.007, 0.6]         0.698112  0.517467 -0.299433  0.191599\n",
      "(0.6, 1.2]            0.257941  0.342795  0.284401  0.191599\n",
      "(1.8, 2.4]            0.036550  0.089520  0.895768  0.191599\n",
      "(2.4, 3.0]            0.005744  0.028384  1.597745  0.191599\n",
      "(3.6, 4.2]            0.001262  0.004367  1.241449  0.191599\n",
      "(4.8, 5.4]            0.000392  0.008734  3.104667  0.191599\n",
      "(5.4, 6.0]            0.000000  0.008734  0.000000  0.191599 \n",
      "\n",
      "target                               0         1       woe        iv\n",
      "inquiry_21_day_range                                                \n",
      "(-0.009000000000000001, 0.8]  0.663693  0.497817 -0.287588  0.252354\n",
      "(0.8, 1.6]                    0.274476  0.316594  0.142757  0.252354\n",
      "(1.6, 2.4]                    0.048255  0.106987  0.796204  0.252354\n",
      "(2.4, 3.2]                    0.009703  0.039301  1.398797  0.252354\n",
      "(3.2, 4.0]                    0.002872  0.021834  2.028528  0.252354\n",
      "(4.8, 5.6]                    0.000827  0.000000  0.000000  0.252354\n",
      "(5.6, 6.4]                    0.000087  0.013100  5.014210  0.252354\n",
      "(6.4, 7.2]                    0.000000  0.002183  0.000000  0.252354\n",
      "(7.2, 8.0]                    0.000087  0.002183  3.222450  0.252354 \n",
      "\n",
      "target                                0         1       woe        iv\n",
      "count_mnth_act_passport_range                                        \n",
      "(-0.0223, 1.576]               0.076655  0.121951  0.464306  0.044179\n",
      "(1.576, 3.157]                 0.074175  0.076040  0.024832  0.044179\n",
      "(3.157, 4.738]                 0.082180  0.104735  0.242521  0.044179\n",
      "(4.738, 6.319]                 0.137678  0.147776  0.070783  0.044179\n",
      "(6.319, 7.9]                   0.138682  0.116212 -0.176766  0.044179\n",
      "(7.9, 9.481]                   0.175221  0.147776 -0.170346  0.044179\n",
      "(9.481, 11.062]                0.212198  0.190818 -0.106202  0.044179\n",
      "(11.062, 12.643]               0.084032  0.084648  0.007312  0.044179\n",
      "(12.643, 14.224]               0.015915  0.008608 -0.614525  0.044179\n",
      "(14.224, 15.805]               0.003265  0.001435 -0.822164  0.044179 \n",
      "\n",
      "target                       0         1       woe        iv\n",
      "UID_range                                                   \n",
      "(-136.901, 14094.0]   0.099758  0.088953 -0.114646  0.041235\n",
      "(14094.0, 28184.0]    0.100951  0.070301 -0.361846  0.041235\n",
      "(28184.0, 42274.0]    0.101171  0.100430 -0.007346  0.041235\n",
      "(42274.0, 56364.0]    0.097718  0.091822 -0.062232  0.041235\n",
      "(56364.0, 70454.0]    0.099790  0.094692 -0.052440  0.041235\n",
      "(70454.0, 84544.0]    0.101861  0.076040 -0.292352  0.041235\n",
      "(84544.0, 98634.0]    0.099884  0.107604  0.074450  0.041235\n",
      "(98634.0, 112724.0]   0.100700  0.107604  0.066312  0.041235\n",
      "(112724.0, 126814.0]  0.099130  0.120516  0.195350  0.041235\n",
      "(126814.0, 140904.0]  0.099036  0.142037  0.360603  0.041235 \n",
      "\n"
     ]
    }
   ],
   "source": [
    "import warnings\n",
    "\n",
    "with warnings.catch_warnings(record=True):\n",
    "    for col in num_cols_iv[:-1]:\n",
    "        print(woe_iv(df_accept, col), \"\\n\")"
   ]
  },
  {
   "cell_type": "markdown",
   "metadata": {},
   "source": [
    "#### Имеются отрицательные аномальные значения в CNT_MNTH_FROM_LAST_PMNT и experience , а также в count_mnth_act_passport. Некие выбросы в CNT_MNTH_FROM_LAST_PMNT, слишком большие значения."
   ]
  },
  {
   "cell_type": "code",
   "execution_count": 723,
   "metadata": {},
   "outputs": [
    {
     "data": {
      "text/html": [
       "<div>\n",
       "<style scoped>\n",
       "    .dataframe tbody tr th:only-of-type {\n",
       "        vertical-align: middle;\n",
       "    }\n",
       "\n",
       "    .dataframe tbody tr th {\n",
       "        vertical-align: top;\n",
       "    }\n",
       "\n",
       "    .dataframe thead th {\n",
       "        text-align: right;\n",
       "    }\n",
       "</style>\n",
       "<table border=\"1\" class=\"dataframe\">\n",
       "  <thead>\n",
       "    <tr style=\"text-align: right;\">\n",
       "      <th></th>\n",
       "      <th>count</th>\n",
       "      <th>mean</th>\n",
       "      <th>std</th>\n",
       "      <th>min</th>\n",
       "      <th>25%</th>\n",
       "      <th>50%</th>\n",
       "      <th>75%</th>\n",
       "      <th>max</th>\n",
       "    </tr>\n",
       "  </thead>\n",
       "  <tbody>\n",
       "    <tr>\n",
       "      <th>target</th>\n",
       "      <td>32554.0</td>\n",
       "      <td>0.021411</td>\n",
       "      <td>0.144751</td>\n",
       "      <td>0.000000</td>\n",
       "      <td>0.000000</td>\n",
       "      <td>0.000000</td>\n",
       "      <td>0.000000</td>\n",
       "      <td>1.000000e+00</td>\n",
       "    </tr>\n",
       "    <tr>\n",
       "      <th>income</th>\n",
       "      <td>31862.0</td>\n",
       "      <td>61106.160850</td>\n",
       "      <td>94030.425852</td>\n",
       "      <td>0.000000</td>\n",
       "      <td>26988.250000</td>\n",
       "      <td>41893.500000</td>\n",
       "      <td>70000.000000</td>\n",
       "      <td>1.145038e+07</td>\n",
       "    </tr>\n",
       "    <tr>\n",
       "      <th>DEPENDANT_NUMBER</th>\n",
       "      <td>32506.0</td>\n",
       "      <td>0.007045</td>\n",
       "      <td>0.104856</td>\n",
       "      <td>0.000000</td>\n",
       "      <td>0.000000</td>\n",
       "      <td>0.000000</td>\n",
       "      <td>0.000000</td>\n",
       "      <td>4.000000e+00</td>\n",
       "    </tr>\n",
       "    <tr>\n",
       "      <th>IS_EMPL</th>\n",
       "      <td>32554.0</td>\n",
       "      <td>0.391380</td>\n",
       "      <td>0.488067</td>\n",
       "      <td>0.000000</td>\n",
       "      <td>0.000000</td>\n",
       "      <td>0.000000</td>\n",
       "      <td>1.000000</td>\n",
       "      <td>1.000000e+00</td>\n",
       "    </tr>\n",
       "    <tr>\n",
       "      <th>COUNT_ACTIVE_CREDIT_NO_CC</th>\n",
       "      <td>24236.0</td>\n",
       "      <td>0.668180</td>\n",
       "      <td>0.833126</td>\n",
       "      <td>0.000000</td>\n",
       "      <td>0.000000</td>\n",
       "      <td>0.000000</td>\n",
       "      <td>1.000000</td>\n",
       "      <td>7.000000e+00</td>\n",
       "    </tr>\n",
       "    <tr>\n",
       "      <th>CNT_MNTH_FROM_LAST_PMNT</th>\n",
       "      <td>22482.0</td>\n",
       "      <td>18.676595</td>\n",
       "      <td>132.500617</td>\n",
       "      <td>-66.135148</td>\n",
       "      <td>0.529900</td>\n",
       "      <td>0.927554</td>\n",
       "      <td>3.604469</td>\n",
       "      <td>1.365277e+03</td>\n",
       "    </tr>\n",
       "    <tr>\n",
       "      <th>age</th>\n",
       "      <td>32554.0</td>\n",
       "      <td>36.519102</td>\n",
       "      <td>8.217041</td>\n",
       "      <td>25.000187</td>\n",
       "      <td>29.584248</td>\n",
       "      <td>34.848847</td>\n",
       "      <td>42.359323</td>\n",
       "      <td>5.893780e+01</td>\n",
       "    </tr>\n",
       "    <tr>\n",
       "      <th>experience</th>\n",
       "      <td>32507.0</td>\n",
       "      <td>4.925917</td>\n",
       "      <td>5.358776</td>\n",
       "      <td>-4.600000</td>\n",
       "      <td>1.223778</td>\n",
       "      <td>3.254098</td>\n",
       "      <td>6.512995</td>\n",
       "      <td>1.011924e+02</td>\n",
       "    </tr>\n",
       "    <tr>\n",
       "      <th>inquiry_14_day</th>\n",
       "      <td>23440.0</td>\n",
       "      <td>0.362415</td>\n",
       "      <td>0.612744</td>\n",
       "      <td>0.000000</td>\n",
       "      <td>0.000000</td>\n",
       "      <td>0.000000</td>\n",
       "      <td>1.000000</td>\n",
       "      <td>6.000000e+00</td>\n",
       "    </tr>\n",
       "    <tr>\n",
       "      <th>inquiry_21_day</th>\n",
       "      <td>23440.0</td>\n",
       "      <td>0.425341</td>\n",
       "      <td>0.692285</td>\n",
       "      <td>0.000000</td>\n",
       "      <td>0.000000</td>\n",
       "      <td>0.000000</td>\n",
       "      <td>1.000000</td>\n",
       "      <td>8.000000e+00</td>\n",
       "    </tr>\n",
       "    <tr>\n",
       "      <th>count_mnth_act_passport</th>\n",
       "      <td>32554.0</td>\n",
       "      <td>7.238117</td>\n",
       "      <td>3.342700</td>\n",
       "      <td>-0.005464</td>\n",
       "      <td>4.963113</td>\n",
       "      <td>7.773224</td>\n",
       "      <td>9.914685</td>\n",
       "      <td>1.580548e+01</td>\n",
       "    </tr>\n",
       "    <tr>\n",
       "      <th>UID</th>\n",
       "      <td>32554.0</td>\n",
       "      <td>70507.240585</td>\n",
       "      <td>40669.133319</td>\n",
       "      <td>4.000000</td>\n",
       "      <td>35302.000000</td>\n",
       "      <td>70721.000000</td>\n",
       "      <td>105740.250000</td>\n",
       "      <td>1.409040e+05</td>\n",
       "    </tr>\n",
       "  </tbody>\n",
       "</table>\n",
       "</div>"
      ],
      "text/plain": [
       "                             count          mean           std        min  \\\n",
       "target                     32554.0      0.021411      0.144751   0.000000   \n",
       "income                     31862.0  61106.160850  94030.425852   0.000000   \n",
       "DEPENDANT_NUMBER           32506.0      0.007045      0.104856   0.000000   \n",
       "IS_EMPL                    32554.0      0.391380      0.488067   0.000000   \n",
       "COUNT_ACTIVE_CREDIT_NO_CC  24236.0      0.668180      0.833126   0.000000   \n",
       "CNT_MNTH_FROM_LAST_PMNT    22482.0     18.676595    132.500617 -66.135148   \n",
       "age                        32554.0     36.519102      8.217041  25.000187   \n",
       "experience                 32507.0      4.925917      5.358776  -4.600000   \n",
       "inquiry_14_day             23440.0      0.362415      0.612744   0.000000   \n",
       "inquiry_21_day             23440.0      0.425341      0.692285   0.000000   \n",
       "count_mnth_act_passport    32554.0      7.238117      3.342700  -0.005464   \n",
       "UID                        32554.0  70507.240585  40669.133319   4.000000   \n",
       "\n",
       "                                    25%           50%            75%  \\\n",
       "target                         0.000000      0.000000       0.000000   \n",
       "income                     26988.250000  41893.500000   70000.000000   \n",
       "DEPENDANT_NUMBER               0.000000      0.000000       0.000000   \n",
       "IS_EMPL                        0.000000      0.000000       1.000000   \n",
       "COUNT_ACTIVE_CREDIT_NO_CC      0.000000      0.000000       1.000000   \n",
       "CNT_MNTH_FROM_LAST_PMNT        0.529900      0.927554       3.604469   \n",
       "age                           29.584248     34.848847      42.359323   \n",
       "experience                     1.223778      3.254098       6.512995   \n",
       "inquiry_14_day                 0.000000      0.000000       1.000000   \n",
       "inquiry_21_day                 0.000000      0.000000       1.000000   \n",
       "count_mnth_act_passport        4.963113      7.773224       9.914685   \n",
       "UID                        35302.000000  70721.000000  105740.250000   \n",
       "\n",
       "                                    max  \n",
       "target                     1.000000e+00  \n",
       "income                     1.145038e+07  \n",
       "DEPENDANT_NUMBER           4.000000e+00  \n",
       "IS_EMPL                    1.000000e+00  \n",
       "COUNT_ACTIVE_CREDIT_NO_CC  7.000000e+00  \n",
       "CNT_MNTH_FROM_LAST_PMNT    1.365277e+03  \n",
       "age                        5.893780e+01  \n",
       "experience                 1.011924e+02  \n",
       "inquiry_14_day             6.000000e+00  \n",
       "inquiry_21_day             8.000000e+00  \n",
       "count_mnth_act_passport    1.580548e+01  \n",
       "UID                        1.409040e+05  "
      ]
     },
     "execution_count": 723,
     "metadata": {},
     "output_type": "execute_result"
    }
   ],
   "source": [
    "df_accept.select_dtypes(include=[\"int64\", \"float64\"]).describe().transpose()"
   ]
  },
  {
   "cell_type": "code",
   "execution_count": 724,
   "metadata": {},
   "outputs": [
    {
     "data": {
      "image/png": "[encoded data removed]",
      "text/plain": [
       "<Figure size 1440x1440 with 12 Axes>"
      ]
     },
     "metadata": {
      "needs_background": "light"
     },
     "output_type": "display_data"
    }
   ],
   "source": [
    "df_hist = df_accept.hist(bins=30, figsize=(20, 20), grid=False)"
   ]
  },
  {
   "cell_type": "markdown",
   "metadata": {},
   "source": [
    "#### Видно, что в категориальных переменных нет выбросов или аномальных значений:"
   ]
  },
  {
   "cell_type": "code",
   "execution_count": 725,
   "metadata": {},
   "outputs": [
    {
     "name": "stdout",
     "output_type": "stream",
     "text": [
      "OTHER    21757\n",
      "2NDFL    10797\n",
      "Name: INCOME_TYPE, dtype: int64\n",
      "elementary    21301\n",
      "advanced       8497\n",
      "beginner       1543\n",
      "high           1213\n",
      "Name: EDUCATION_, dtype: int64\n",
      "Corporate    12669\n",
      "VIP            388\n",
      "Name: CUSTOMER_CATEGORY_, dtype: int64\n"
     ]
    }
   ],
   "source": [
    "for col in df_accept.select_dtypes(include=[\"object\"]):\n",
    "    print(df_accept[col].value_counts())"
   ]
  },
  {
   "cell_type": "markdown",
   "metadata": {},
   "source": [
    "<center><h3> Информация для reject: </h3></center>"
   ]
  },
  {
   "cell_type": "code",
   "execution_count": 726,
   "metadata": {},
   "outputs": [
    {
     "data": {
      "text/html": [
       "<div>\n",
       "<style scoped>\n",
       "    .dataframe tbody tr th:only-of-type {\n",
       "        vertical-align: middle;\n",
       "    }\n",
       "\n",
       "    .dataframe tbody tr th {\n",
       "        vertical-align: top;\n",
       "    }\n",
       "\n",
       "    .dataframe thead th {\n",
       "        text-align: right;\n",
       "    }\n",
       "</style>\n",
       "<table border=\"1\" class=\"dataframe\">\n",
       "  <thead>\n",
       "    <tr style=\"text-align: right;\">\n",
       "      <th></th>\n",
       "      <th>Доля пропущенных значений</th>\n",
       "      <th>Медиана</th>\n",
       "      <th>Среднее</th>\n",
       "      <th>Среднеквадратическое отклонение</th>\n",
       "    </tr>\n",
       "  </thead>\n",
       "  <tbody>\n",
       "    <tr>\n",
       "      <th>income</th>\n",
       "      <td>5.106144</td>\n",
       "      <td>29115.000000</td>\n",
       "      <td>33651.242633</td>\n",
       "      <td>21821.837966</td>\n",
       "    </tr>\n",
       "    <tr>\n",
       "      <th>DEPENDANT_NUMBER</th>\n",
       "      <td>0.046760</td>\n",
       "      <td>0.000000</td>\n",
       "      <td>0.001778</td>\n",
       "      <td>0.046357</td>\n",
       "    </tr>\n",
       "    <tr>\n",
       "      <th>IS_EMPL</th>\n",
       "      <td>0.000000</td>\n",
       "      <td>1.000000</td>\n",
       "      <td>0.543253</td>\n",
       "      <td>0.498149</td>\n",
       "    </tr>\n",
       "    <tr>\n",
       "      <th>COUNT_ACTIVE_CREDIT_NO_CC</th>\n",
       "      <td>41.223230</td>\n",
       "      <td>0.000000</td>\n",
       "      <td>0.540971</td>\n",
       "      <td>0.730867</td>\n",
       "    </tr>\n",
       "    <tr>\n",
       "      <th>CNT_MNTH_FROM_LAST_PMNT</th>\n",
       "      <td>51.126905</td>\n",
       "      <td>0.864539</td>\n",
       "      <td>42.478167</td>\n",
       "      <td>228.831924</td>\n",
       "    </tr>\n",
       "    <tr>\n",
       "      <th>age</th>\n",
       "      <td>0.000000</td>\n",
       "      <td>24.109290</td>\n",
       "      <td>24.037108</td>\n",
       "      <td>0.738261</td>\n",
       "    </tr>\n",
       "    <tr>\n",
       "      <th>experience</th>\n",
       "      <td>0.074815</td>\n",
       "      <td>1.225735</td>\n",
       "      <td>1.660079</td>\n",
       "      <td>1.394135</td>\n",
       "    </tr>\n",
       "    <tr>\n",
       "      <th>inquiry_14_day</th>\n",
       "      <td>43.056205</td>\n",
       "      <td>0.000000</td>\n",
       "      <td>0.340614</td>\n",
       "      <td>0.619647</td>\n",
       "    </tr>\n",
       "    <tr>\n",
       "      <th>inquiry_21_day</th>\n",
       "      <td>43.056205</td>\n",
       "      <td>0.000000</td>\n",
       "      <td>0.414025</td>\n",
       "      <td>0.708179</td>\n",
       "    </tr>\n",
       "    <tr>\n",
       "      <th>count_mnth_act_passport</th>\n",
       "      <td>0.000000</td>\n",
       "      <td>3.713115</td>\n",
       "      <td>3.509274</td>\n",
       "      <td>1.154384</td>\n",
       "    </tr>\n",
       "    <tr>\n",
       "      <th>UID</th>\n",
       "      <td>0.000000</td>\n",
       "      <td>74767.000000</td>\n",
       "      <td>72713.527728</td>\n",
       "      <td>41248.658196</td>\n",
       "    </tr>\n",
       "  </tbody>\n",
       "</table>\n",
       "</div>"
      ],
      "text/plain": [
       "                           Доля пропущенных значений       Медиана  \\\n",
       "income                                      5.106144  29115.000000   \n",
       "DEPENDANT_NUMBER                            0.046760      0.000000   \n",
       "IS_EMPL                                     0.000000      1.000000   \n",
       "COUNT_ACTIVE_CREDIT_NO_CC                  41.223230      0.000000   \n",
       "CNT_MNTH_FROM_LAST_PMNT                    51.126905      0.864539   \n",
       "age                                         0.000000     24.109290   \n",
       "experience                                  0.074815      1.225735   \n",
       "inquiry_14_day                             43.056205      0.000000   \n",
       "inquiry_21_day                             43.056205      0.000000   \n",
       "count_mnth_act_passport                     0.000000      3.713115   \n",
       "UID                                         0.000000  74767.000000   \n",
       "\n",
       "                                Среднее  Среднеквадратическое отклонение  \n",
       "income                     33651.242633                     21821.837966  \n",
       "DEPENDANT_NUMBER               0.001778                         0.046357  \n",
       "IS_EMPL                        0.543253                         0.498149  \n",
       "COUNT_ACTIVE_CREDIT_NO_CC      0.540971                         0.730867  \n",
       "CNT_MNTH_FROM_LAST_PMNT       42.478167                       228.831924  \n",
       "age                           24.037108                         0.738261  \n",
       "experience                     1.660079                         1.394135  \n",
       "inquiry_14_day                 0.340614                         0.619647  \n",
       "inquiry_21_day                 0.414025                         0.708179  \n",
       "count_mnth_act_passport        3.509274                         1.154384  \n",
       "UID                        72713.527728                     41248.658196  "
      ]
     },
     "execution_count": 726,
     "metadata": {},
     "output_type": "execute_result"
    }
   ],
   "source": [
    "my_info(df_reject.select_dtypes(include=[\"int64\", \"float64\"]))"
   ]
  },
  {
   "cell_type": "code",
   "execution_count": 727,
   "metadata": {},
   "outputs": [
    {
     "data": {
      "text/html": [
       "<div>\n",
       "<style scoped>\n",
       "    .dataframe tbody tr th:only-of-type {\n",
       "        vertical-align: middle;\n",
       "    }\n",
       "\n",
       "    .dataframe tbody tr th {\n",
       "        vertical-align: top;\n",
       "    }\n",
       "\n",
       "    .dataframe thead th {\n",
       "        text-align: right;\n",
       "    }\n",
       "</style>\n",
       "<table border=\"1\" class=\"dataframe\">\n",
       "  <thead>\n",
       "    <tr style=\"text-align: right;\">\n",
       "      <th></th>\n",
       "      <th>Доля пропущенных значений</th>\n",
       "      <th>Мода</th>\n",
       "    </tr>\n",
       "  </thead>\n",
       "  <tbody>\n",
       "    <tr>\n",
       "      <th>INCOME_TYPE</th>\n",
       "      <td>0</td>\n",
       "      <td>OTHER</td>\n",
       "    </tr>\n",
       "    <tr>\n",
       "      <th>EDUCATION_</th>\n",
       "      <td>0</td>\n",
       "      <td>elementary</td>\n",
       "    </tr>\n",
       "    <tr>\n",
       "      <th>CUSTOMER_CATEGORY_</th>\n",
       "      <td>47.1523</td>\n",
       "      <td>Corporate</td>\n",
       "    </tr>\n",
       "  </tbody>\n",
       "</table>\n",
       "</div>"
      ],
      "text/plain": [
       "                   Доля пропущенных значений        Мода\n",
       "INCOME_TYPE                                0       OTHER\n",
       "EDUCATION_                                 0  elementary\n",
       "CUSTOMER_CATEGORY_                   47.1523   Corporate"
      ]
     },
     "execution_count": 727,
     "metadata": {},
     "output_type": "execute_result"
    }
   ],
   "source": [
    "categorical_info(df_reject.select_dtypes(include=[\"object\"]))"
   ]
  },
  {
   "cell_type": "markdown",
   "metadata": {},
   "source": [
    "#### Видно что в столбце CNT_MNTH_FROM_LAST_PMNT есть значение около 1400, что является выбросом. Также в столбце COUNT_ACTIVE_CREDIT_NO_CC есть редкие значения 4-6. В столбце inquiry_21_day есть значения 3. Есть также какое-то аномальное значение в CNT_MNTH_FROM_LAST_PMNT, стоит отрицательное число. И выброс в столбце count_mnth_act_passport, там значение 43."
   ]
  },
  {
   "cell_type": "code",
   "execution_count": 728,
   "metadata": {},
   "outputs": [
    {
     "data": {
      "text/html": [
       "<div>\n",
       "<style scoped>\n",
       "    .dataframe tbody tr th:only-of-type {\n",
       "        vertical-align: middle;\n",
       "    }\n",
       "\n",
       "    .dataframe tbody tr th {\n",
       "        vertical-align: top;\n",
       "    }\n",
       "\n",
       "    .dataframe thead th {\n",
       "        text-align: right;\n",
       "    }\n",
       "</style>\n",
       "<table border=\"1\" class=\"dataframe\">\n",
       "  <thead>\n",
       "    <tr style=\"text-align: right;\">\n",
       "      <th></th>\n",
       "      <th>count</th>\n",
       "      <th>mean</th>\n",
       "      <th>std</th>\n",
       "      <th>min</th>\n",
       "      <th>25%</th>\n",
       "      <th>50%</th>\n",
       "      <th>75%</th>\n",
       "      <th>max</th>\n",
       "    </tr>\n",
       "  </thead>\n",
       "  <tbody>\n",
       "    <tr>\n",
       "      <th>income</th>\n",
       "      <td>10147.0</td>\n",
       "      <td>33651.242633</td>\n",
       "      <td>21821.837966</td>\n",
       "      <td>0.000000</td>\n",
       "      <td>20787.500000</td>\n",
       "      <td>29115.000000</td>\n",
       "      <td>40318.000000</td>\n",
       "      <td>434136.000000</td>\n",
       "    </tr>\n",
       "    <tr>\n",
       "      <th>DEPENDANT_NUMBER</th>\n",
       "      <td>10688.0</td>\n",
       "      <td>0.001778</td>\n",
       "      <td>0.046357</td>\n",
       "      <td>0.000000</td>\n",
       "      <td>0.000000</td>\n",
       "      <td>0.000000</td>\n",
       "      <td>0.000000</td>\n",
       "      <td>2.000000</td>\n",
       "    </tr>\n",
       "    <tr>\n",
       "      <th>IS_EMPL</th>\n",
       "      <td>10693.0</td>\n",
       "      <td>0.543253</td>\n",
       "      <td>0.498149</td>\n",
       "      <td>0.000000</td>\n",
       "      <td>0.000000</td>\n",
       "      <td>1.000000</td>\n",
       "      <td>1.000000</td>\n",
       "      <td>1.000000</td>\n",
       "    </tr>\n",
       "    <tr>\n",
       "      <th>COUNT_ACTIVE_CREDIT_NO_CC</th>\n",
       "      <td>6285.0</td>\n",
       "      <td>0.540971</td>\n",
       "      <td>0.730867</td>\n",
       "      <td>0.000000</td>\n",
       "      <td>0.000000</td>\n",
       "      <td>0.000000</td>\n",
       "      <td>1.000000</td>\n",
       "      <td>6.000000</td>\n",
       "    </tr>\n",
       "    <tr>\n",
       "      <th>CNT_MNTH_FROM_LAST_PMNT</th>\n",
       "      <td>5226.0</td>\n",
       "      <td>42.478167</td>\n",
       "      <td>228.831924</td>\n",
       "      <td>-31.072849</td>\n",
       "      <td>0.506989</td>\n",
       "      <td>0.864539</td>\n",
       "      <td>1.849322</td>\n",
       "      <td>1364.633401</td>\n",
       "    </tr>\n",
       "    <tr>\n",
       "      <th>age</th>\n",
       "      <td>10693.0</td>\n",
       "      <td>24.037108</td>\n",
       "      <td>0.738261</td>\n",
       "      <td>0.002732</td>\n",
       "      <td>23.547945</td>\n",
       "      <td>24.109290</td>\n",
       "      <td>24.581967</td>\n",
       "      <td>24.999873</td>\n",
       "    </tr>\n",
       "    <tr>\n",
       "      <th>experience</th>\n",
       "      <td>10685.0</td>\n",
       "      <td>1.660079</td>\n",
       "      <td>1.394135</td>\n",
       "      <td>0.024590</td>\n",
       "      <td>0.602425</td>\n",
       "      <td>1.225735</td>\n",
       "      <td>2.249315</td>\n",
       "      <td>15.271233</td>\n",
       "    </tr>\n",
       "    <tr>\n",
       "      <th>inquiry_14_day</th>\n",
       "      <td>6089.0</td>\n",
       "      <td>0.340614</td>\n",
       "      <td>0.619647</td>\n",
       "      <td>0.000000</td>\n",
       "      <td>0.000000</td>\n",
       "      <td>0.000000</td>\n",
       "      <td>1.000000</td>\n",
       "      <td>6.000000</td>\n",
       "    </tr>\n",
       "    <tr>\n",
       "      <th>inquiry_21_day</th>\n",
       "      <td>6089.0</td>\n",
       "      <td>0.414025</td>\n",
       "      <td>0.708179</td>\n",
       "      <td>0.000000</td>\n",
       "      <td>0.000000</td>\n",
       "      <td>0.000000</td>\n",
       "      <td>1.000000</td>\n",
       "      <td>8.000000</td>\n",
       "    </tr>\n",
       "    <tr>\n",
       "      <th>count_mnth_act_passport</th>\n",
       "      <td>10693.0</td>\n",
       "      <td>3.509274</td>\n",
       "      <td>1.154384</td>\n",
       "      <td>0.002740</td>\n",
       "      <td>3.063852</td>\n",
       "      <td>3.713115</td>\n",
       "      <td>4.292350</td>\n",
       "      <td>43.098630</td>\n",
       "    </tr>\n",
       "    <tr>\n",
       "      <th>UID</th>\n",
       "      <td>10693.0</td>\n",
       "      <td>72713.527728</td>\n",
       "      <td>41248.658196</td>\n",
       "      <td>12.000000</td>\n",
       "      <td>36800.000000</td>\n",
       "      <td>74767.000000</td>\n",
       "      <td>108555.000000</td>\n",
       "      <td>140906.000000</td>\n",
       "    </tr>\n",
       "  </tbody>\n",
       "</table>\n",
       "</div>"
      ],
      "text/plain": [
       "                             count          mean           std        min  \\\n",
       "income                     10147.0  33651.242633  21821.837966   0.000000   \n",
       "DEPENDANT_NUMBER           10688.0      0.001778      0.046357   0.000000   \n",
       "IS_EMPL                    10693.0      0.543253      0.498149   0.000000   \n",
       "COUNT_ACTIVE_CREDIT_NO_CC   6285.0      0.540971      0.730867   0.000000   \n",
       "CNT_MNTH_FROM_LAST_PMNT     5226.0     42.478167    228.831924 -31.072849   \n",
       "age                        10693.0     24.037108      0.738261   0.002732   \n",
       "experience                 10685.0      1.660079      1.394135   0.024590   \n",
       "inquiry_14_day              6089.0      0.340614      0.619647   0.000000   \n",
       "inquiry_21_day              6089.0      0.414025      0.708179   0.000000   \n",
       "count_mnth_act_passport    10693.0      3.509274      1.154384   0.002740   \n",
       "UID                        10693.0  72713.527728  41248.658196  12.000000   \n",
       "\n",
       "                                    25%           50%            75%  \\\n",
       "income                     20787.500000  29115.000000   40318.000000   \n",
       "DEPENDANT_NUMBER               0.000000      0.000000       0.000000   \n",
       "IS_EMPL                        0.000000      1.000000       1.000000   \n",
       "COUNT_ACTIVE_CREDIT_NO_CC      0.000000      0.000000       1.000000   \n",
       "CNT_MNTH_FROM_LAST_PMNT        0.506989      0.864539       1.849322   \n",
       "age                           23.547945     24.109290      24.581967   \n",
       "experience                     0.602425      1.225735       2.249315   \n",
       "inquiry_14_day                 0.000000      0.000000       1.000000   \n",
       "inquiry_21_day                 0.000000      0.000000       1.000000   \n",
       "count_mnth_act_passport        3.063852      3.713115       4.292350   \n",
       "UID                        36800.000000  74767.000000  108555.000000   \n",
       "\n",
       "                                     max  \n",
       "income                     434136.000000  \n",
       "DEPENDANT_NUMBER                2.000000  \n",
       "IS_EMPL                         1.000000  \n",
       "COUNT_ACTIVE_CREDIT_NO_CC       6.000000  \n",
       "CNT_MNTH_FROM_LAST_PMNT      1364.633401  \n",
       "age                            24.999873  \n",
       "experience                     15.271233  \n",
       "inquiry_14_day                  6.000000  \n",
       "inquiry_21_day                  8.000000  \n",
       "count_mnth_act_passport        43.098630  \n",
       "UID                        140906.000000  "
      ]
     },
     "execution_count": 728,
     "metadata": {},
     "output_type": "execute_result"
    }
   ],
   "source": [
    "df_reject.select_dtypes(include=[\"int64\", \"float64\"]).describe().transpose()"
   ]
  },
  {
   "cell_type": "code",
   "execution_count": 729,
   "metadata": {},
   "outputs": [
    {
     "data": {
      "image/png": "[encoded data removed]",
      "text/plain": [
       "<Figure size 1440x1440 with 12 Axes>"
      ]
     },
     "metadata": {
      "needs_background": "light"
     },
     "output_type": "display_data"
    }
   ],
   "source": [
    "df_hist = df_reject.hist(bins=30, figsize=(20, 20), grid=False)"
   ]
  },
  {
   "cell_type": "markdown",
   "metadata": {},
   "source": [
    "#### Видно, что есть выбросы в колонке EDUCATION, значение \"VIP\" - слишком редкое там:"
   ]
  },
  {
   "cell_type": "code",
   "execution_count": 730,
   "metadata": {},
   "outputs": [
    {
     "name": "stdout",
     "output_type": "stream",
     "text": [
      "OTHER    6684\n",
      "2NDFL    4009\n",
      "Name: INCOME_TYPE, dtype: int64\n",
      "elementary    6778\n",
      "advanced      2457\n",
      "high          1175\n",
      "beginner       283\n",
      "Name: EDUCATION_, dtype: int64\n",
      "Corporate    5640\n",
      "VIP            11\n",
      "Name: CUSTOMER_CATEGORY_, dtype: int64\n"
     ]
    }
   ],
   "source": [
    "for col in df_reject.select_dtypes(include=[\"object\"]):\n",
    "    print(df_reject[col].value_counts())"
   ]
  },
  {
   "cell_type": "markdown",
   "metadata": {},
   "source": [
    "### 5. Построение модели для предсказаний ответов (reject inference) на reject"
   ]
  },
  {
   "cell_type": "code",
   "execution_count": 731,
   "metadata": {},
   "outputs": [],
   "source": [
    "from sklearn.ensemble import RandomForestClassifier\n",
    "from sklearn.model_selection import train_test_split\n",
    "from sklearn.metrics import f1_score\n",
    "from sklearn.compose import ColumnTransformer\n",
    "from sklearn.pipeline import Pipeline\n",
    "from sklearn.preprocessing import OneHotEncoder, StandardScaler\n",
    "from sklearn.impute import SimpleImputer"
   ]
  },
  {
   "cell_type": "code",
   "execution_count": 732,
   "metadata": {},
   "outputs": [],
   "source": [
    "X = pd.read_csv(\"17_accept.csv\")"
   ]
  },
  {
   "cell_type": "code",
   "execution_count": 733,
   "metadata": {},
   "outputs": [],
   "source": [
    "y = X.target"
   ]
  },
  {
   "cell_type": "code",
   "execution_count": 734,
   "metadata": {},
   "outputs": [],
   "source": [
    "X = X.drop(columns = [\"target\"])"
   ]
  },
  {
   "cell_type": "code",
   "execution_count": 735,
   "metadata": {},
   "outputs": [],
   "source": [
    "X_train, X_test, y_train, y_test = train_test_split(X, y, test_size=0.2, random_state=42, stratify=y)"
   ]
  },
  {
   "cell_type": "code",
   "execution_count": 736,
   "metadata": {},
   "outputs": [],
   "source": [
    "forest = RandomForestClassifier(max_depth=None, n_estimators=70, max_features=\"log2\")"
   ]
  },
  {
   "cell_type": "code",
   "execution_count": 737,
   "metadata": {},
   "outputs": [],
   "source": [
    "categorical = list(X_train.select_dtypes(include=[\"object\"]).columns)\n",
    "numeric = list(X_train.select_dtypes(include=[\"int64\", \"float64\"]).columns)"
   ]
  },
  {
   "cell_type": "code",
   "execution_count": 738,
   "metadata": {},
   "outputs": [],
   "source": [
    "numeric_transformer = Pipeline(steps=[\n",
    "    (\"fillna_num\", SimpleImputer(strategy=\"mean\")),\n",
    "    (\"scaler\", StandardScaler()),\n",
    "])\n",
    "\n",
    "categorical_transformer = Pipeline(steps=[\n",
    "    (\"fillna\", SimpleImputer(strategy=\"most_frequent\")),\n",
    "    (\"ohe\", OneHotEncoder(handle_unknown=\"ignore\")),\n",
    "])\n",
    "\n",
    "preprocessor = ColumnTransformer(\n",
    "    transformers=[\n",
    "        (\"num\", numeric_transformer, numeric),\n",
    "        (\"cat\", categorical_transformer, categorical),\n",
    "    ]\n",
    ")\n",
    "\n",
    "pipeline = Pipeline(\n",
    "    steps=[\n",
    "        (\"preproc\", preprocessor),\n",
    "        (\n",
    "            \"Forest\",\n",
    "            forest,\n",
    "        ),\n",
    "    ]\n",
    ")"
   ]
  },
  {
   "cell_type": "code",
   "execution_count": 739,
   "metadata": {},
   "outputs": [],
   "source": [
    "model = pipeline.fit(X_train, y_train)"
   ]
  },
  {
   "cell_type": "code",
   "execution_count": 740,
   "metadata": {},
   "outputs": [
    {
     "data": {
      "text/plain": [
       "0.21656050955414016"
      ]
     },
     "execution_count": 740,
     "metadata": {},
     "output_type": "execute_result"
    }
   ],
   "source": [
    "f1_score(model.predict(X_test), y_test)"
   ]
  },
  {
   "cell_type": "code",
   "execution_count": 741,
   "metadata": {},
   "outputs": [],
   "source": [
    "model = pipeline.fit(X, y)"
   ]
  },
  {
   "cell_type": "code",
   "execution_count": 742,
   "metadata": {},
   "outputs": [],
   "source": [
    "df_temp = df_reject.copy()"
   ]
  },
  {
   "cell_type": "code",
   "execution_count": 743,
   "metadata": {},
   "outputs": [],
   "source": [
    "df_temp[\"target\"] = model.predict_proba(df_reject)[:, 1]"
   ]
  },
  {
   "cell_type": "code",
   "execution_count": 744,
   "metadata": {},
   "outputs": [],
   "source": [
    "df_temp[\"target\"] = np.where(df_temp[\"target\"] > 0.13, 1, 0)"
   ]
  },
  {
   "cell_type": "code",
   "execution_count": 745,
   "metadata": {},
   "outputs": [
    {
     "data": {
      "text/plain": [
       "3.9467288811120835"
      ]
     },
     "execution_count": 745,
     "metadata": {},
     "output_type": "execute_result"
    }
   ],
   "source": [
    "100 * (df_temp.target.value_counts()[1] / df_temp.target.value_counts()[0])"
   ]
  },
  {
   "cell_type": "code",
   "execution_count": 746,
   "metadata": {},
   "outputs": [],
   "source": [
    "X = pd.read_csv(\"17_accept.csv\")"
   ]
  },
  {
   "cell_type": "code",
   "execution_count": 747,
   "metadata": {},
   "outputs": [],
   "source": [
    "df_extended = X.append(df_temp)"
   ]
  },
  {
   "cell_type": "code",
   "execution_count": 748,
   "metadata": {},
   "outputs": [
    {
     "data": {
      "text/plain": [
       "2.6172171602126046"
      ]
     },
     "execution_count": 748,
     "metadata": {},
     "output_type": "execute_result"
    }
   ],
   "source": [
    "100 * (df_extended.target.value_counts()[1] / df_extended.target.value_counts()[0])"
   ]
  },
  {
   "cell_type": "markdown",
   "metadata": {},
   "source": [
    "#### WOE and IV"
   ]
  },
  {
   "cell_type": "code",
   "execution_count": 749,
   "metadata": {},
   "outputs": [
    {
     "name": "stdout",
     "output_type": "stream",
     "text": [
      "target              0         1       woe        iv\n",
      "INCOME_TYPE                                        \n",
      "2NDFL        0.342184  0.349048  0.019861  0.000208\n",
      "OTHER        0.657816  0.650952 -0.010490  0.000208 \n",
      "\n",
      "target             0         1       woe        iv\n",
      "EDUCATION_                                        \n",
      "advanced    0.251685  0.314597  0.223114  0.070508\n",
      "beginner    0.042473  0.032638 -0.263393  0.070508\n",
      "elementary  0.651955  0.546691 -0.176092  0.070508\n",
      "high        0.053887  0.106074  0.677257  0.070508 \n",
      "\n",
      "target                     0         1       woe        iv\n",
      "CUSTOMER_CATEGORY_                                        \n",
      "Corporate           0.978585  0.988235  0.009814  0.005876\n",
      "VIP                 0.021415  0.011765 -0.599010  0.005876 \n",
      "\n"
     ]
    }
   ],
   "source": [
    "cols = list(df_extended.select_dtypes(include=[\"object\"]).columns)\n",
    "cols.append(\"target\")\n",
    "\n",
    "for col in cols[:-1]:\n",
    "    print(woe_iv(df_extended[cols], col), \"\\n\")"
   ]
  },
  {
   "cell_type": "code",
   "execution_count": 750,
   "metadata": {},
   "outputs": [],
   "source": [
    "cols = list(df_extended.select_dtypes(include=[\"int64\", \"float64\"]).columns)\n",
    "num_cols_iv = []\n",
    "\n",
    "for col in cols:\n",
    "    num_cols_iv.append(str(col) + \"_range\")\n",
    "    df_extended[str(col) + \"_range\"] = pd.cut(df_extended[col], bins=10, include_lowest=True)"
   ]
  },
  {
   "cell_type": "code",
   "execution_count": 751,
   "metadata": {},
   "outputs": [],
   "source": [
    "num_cols_iv.append(\"target\")\n",
    "num_cols_iv.remove('target_range')"
   ]
  },
  {
   "cell_type": "code",
   "execution_count": 752,
   "metadata": {},
   "outputs": [
    {
     "name": "stdout",
     "output_type": "stream",
     "text": [
      "target                           0    1      woe            iv\n",
      "income_range                                                  \n",
      "(-11450.379, 1145037.8]   0.999780  1.0  0.00022  4.823088e-08\n",
      "(1145037.8, 2290075.6]    0.000171  0.0  0.00000  4.823088e-08\n",
      "(3435113.4, 4580151.2]    0.000024  0.0  0.00000  4.823088e-08\n",
      "(10305340.2, 11450378.0]  0.000024  0.0  0.00000  4.823088e-08 \n",
      "\n",
      "target                         0         1       woe        iv\n",
      "DEPENDANT_NUMBER_range                                        \n",
      "(-0.005, 0.4]           0.995776  0.985728 -0.010142  0.013374\n",
      "(0.8, 1.2]              0.003203  0.012369  1.351001  0.013374\n",
      "(1.6, 2.0]              0.000831  0.001903  0.829126  0.013374\n",
      "(2.8, 3.2]              0.000142  0.000000  0.000000  0.013374\n",
      "(3.6, 4.0]              0.000047  0.000000  0.000000  0.013374 \n",
      "\n",
      "target                0         1       woe        iv\n",
      "IS_EMPL_range                                        \n",
      "(-0.002, 0.1]  0.561931  0.920218  0.493232  0.786908\n",
      "(0.9, 1.0]     0.438069  0.079782 -1.703074  0.786908 \n",
      "\n",
      "target                                  0         1       woe        iv\n",
      "COUNT_ACTIVE_CREDIT_NO_CC_range                                        \n",
      "(-0.008, 0.7]                    0.517859  0.444602 -0.152523  0.066316\n",
      "(0.7, 1.4]                       0.367743  0.369318  0.004274  0.066316\n",
      "(1.4, 2.1]                       0.084985  0.115057  0.302950  0.066316\n",
      "(2.8, 3.5]                       0.021800  0.041193  0.636379  0.066316\n",
      "(3.5, 4.2]                       0.005232  0.017045  1.181106  0.066316\n",
      "(4.9, 5.6]                       0.001878  0.008523  1.512463  0.066316\n",
      "(5.6, 6.3]                       0.000134  0.002841  3.052908  0.066316\n",
      "(6.3, 7.0]                       0.000369  0.001420  1.348160  0.066316 \n",
      "\n",
      "target                                0         1       woe        iv\n",
      "CNT_MNTH_FROM_LAST_PMNT_range                                        \n",
      "(-67.568, 77.006]              0.985032  0.990783  0.005822  0.001661\n",
      "(77.006, 220.147]              0.001478  0.000000  0.000000  0.001661\n",
      "(1222.136, 1365.277]           0.013490  0.009217 -0.380946  0.001661 \n",
      "\n",
      "target                   0         1       woe        iv\n",
      "age_range                                               \n",
      "(-0.0572, 5.896]  0.000047  0.000000  0.000000  0.048219\n",
      "(5.896, 11.79]    0.000024  0.000907  3.643059  0.048219\n",
      "(11.79, 17.683]   0.000024  0.000000  0.000000  0.048219\n",
      "(17.683, 23.577]  0.064469  0.082502  0.246634  0.048219\n",
      "(23.577, 29.47]   0.363492  0.439710  0.190358  0.048219\n",
      "(29.47, 35.364]   0.209899  0.153218 -0.314763  0.048219\n",
      "(35.364, 41.257]  0.149487  0.140526 -0.061821  0.048219\n",
      "(41.257, 47.151]  0.106611  0.088849 -0.182250  0.048219\n",
      "(47.151, 53.044]  0.081293  0.078876 -0.030182  0.048219\n",
      "(53.044, 58.938]  0.024654  0.015413 -0.469742  0.048219 \n",
      "\n",
      "target                              0         1       woe        iv\n",
      "experience_range                                                   \n",
      "(-4.707000000000001, 5.979]  0.782709  0.901422  0.141213  0.122084\n",
      "(5.979, 16.558]              0.182832  0.090995 -0.697761  0.122084\n",
      "(16.558, 27.138]             0.027719  0.006635 -1.429753  0.122084\n",
      "(27.138, 37.717]             0.006645  0.000948 -1.947404  0.122084\n",
      "(37.717, 48.296]             0.000047  0.000000  0.000000  0.122084\n",
      "(90.613, 101.192]            0.000047  0.000000  0.000000  0.122084 \n",
      "\n",
      "target                       0         1       woe        iv\n",
      "inquiry_14_day_range                                        \n",
      "(-0.007, 0.6]         0.707633  0.397399 -0.576985  0.636019\n",
      "(0.6, 1.2]            0.251066  0.332370  0.280531  0.636019\n",
      "(1.8, 2.4]            0.034470  0.179191  1.648373  0.636019\n",
      "(2.4, 3.0]            0.005514  0.062139  2.422125  0.636019\n",
      "(3.6, 4.2]            0.001006  0.013006  2.559757  0.636019\n",
      "(4.8, 5.4]            0.000312  0.008671  3.324364  0.636019\n",
      "(5.4, 6.0]            0.000000  0.007225  0.000000  0.636019 \n",
      "\n",
      "target                               0         1       woe        iv\n",
      "inquiry_21_day_range                                                \n",
      "(-0.009000000000000001, 0.8]  0.671048  0.377168 -0.576150  0.710854\n",
      "(0.8, 1.6]                    0.270278  0.297688  0.096595  0.710854\n",
      "(1.6, 2.4]                    0.046468  0.177746  1.341588  0.710854\n",
      "(2.4, 3.2]                    0.009051  0.083815  2.225751  0.710854\n",
      "(3.2, 4.0]                    0.002358  0.034682  2.688375  0.710854\n",
      "(4.8, 5.6]                    0.000659  0.011561  2.864831  0.710854\n",
      "(5.6, 6.4]                    0.000069  0.013006  5.233906  0.710854\n",
      "(6.4, 7.2]                    0.000000  0.001445  0.000000  0.710854\n",
      "(7.2, 8.0]                    0.000069  0.002890  3.729829  0.710854 \n",
      "\n",
      "target                                0         1       woe        iv\n",
      "count_mnth_act_passport_range                                        \n",
      "(-0.0496, 4.305]               0.340642  0.459655  0.299646  0.065053\n",
      "(4.305, 8.615]                 0.340048  0.300997 -0.121987  0.065053\n",
      "(8.615, 12.926]                0.308039  0.233908 -0.275301  0.065053\n",
      "(12.926, 17.236]               0.011247  0.005440 -0.726389  0.065053\n",
      "(38.788, 43.099]               0.000024  0.000000  0.000000  0.065053 \n",
      "\n",
      "target                       0         1       woe        iv\n",
      "UID_range                                                   \n",
      "(-136.903, 14094.2]   0.099943  0.106074  0.059540  0.079554\n",
      "(14094.2, 28184.4]    0.098994  0.066183 -0.402633  0.079554\n",
      "(28184.4, 42274.6]    0.099302  0.080689 -0.207567  0.079554\n",
      "(42274.6, 56364.8]    0.096526  0.079782 -0.190511  0.079554\n",
      "(56364.8, 70455.0]    0.099018  0.090662 -0.088162  0.079554\n",
      "(70455.0, 84545.2]    0.100299  0.064370 -0.443509  0.079554\n",
      "(84545.2, 98635.4]    0.101699  0.107888  0.059073  0.079554\n",
      "(98635.4, 112725.6]   0.102648  0.103354  0.006858  0.079554\n",
      "(112725.6, 126815.8]  0.100085  0.135993  0.306578  0.079554\n",
      "(126815.8, 140906.0]  0.101485  0.165005  0.486058  0.079554 \n",
      "\n"
     ]
    }
   ],
   "source": [
    "import warnings\n",
    "\n",
    "with warnings.catch_warnings(record=True):\n",
    "    for col in num_cols_iv[:-1]:\n",
    "        print(woe_iv(df_extended, col), \"\\n\")"
   ]
  },
  {
   "cell_type": "markdown",
   "metadata": {},
   "source": [
    "### 4. Построить логистическую регрессию только на одобренных заявках с преобразованными переменными WoE. Какое значение GINI? F1 мера?"
   ]
  },
  {
   "cell_type": "code",
   "execution_count": 753,
   "metadata": {},
   "outputs": [],
   "source": [
    "df_accept = pd.read_csv(\"17_accept.csv\")\n",
    "df_reject = pd.read_csv(\"17_reject.csv\")"
   ]
  },
  {
   "cell_type": "code",
   "execution_count": 754,
   "metadata": {},
   "outputs": [],
   "source": [
    "def get_WOE(df, feature, target):\n",
    "    lst = []\n",
    "\n",
    "    unique_values = df[feature].unique()\n",
    "    for val in unique_values:\n",
    "        lst.append(\n",
    "            [\n",
    "                feature,\n",
    "                val,\n",
    "                df[(df[feature] == val) & (df[target] == 0)].count()[feature],\n",
    "                df[(df[feature] == val) & (df[target] == 1)].count()[feature],\n",
    "            ]\n",
    "        )\n",
    "\n",
    "    data = pd.DataFrame(lst, columns=[\"Variable\", \"Value\", \"Good\", \"Bad\"])\n",
    "\n",
    "    total_bad = df[df[target] == 1].count()[feature]\n",
    "    total_good = df.shape[0] - total_bad\n",
    "\n",
    "    data[\"Distribution Good\"] = data[\"Good\"] / total_good\n",
    "    data[\"Distribution Bad\"] = data[\"Bad\"] / total_bad\n",
    "    data[\"WoE\"] = np.log(data[\"Distribution Good\"] / data[\"Distribution Bad\"])\n",
    "\n",
    "    data = data.replace({\"WoE\": {np.inf: 0, -np.inf: 0}})\n",
    "\n",
    "    data = data.sort_values(by=[\"Variable\", \"Value\"], ascending=[True, True])\n",
    "    data.index = range(len(data.index))\n",
    "\n",
    "    return data"
   ]
  },
  {
   "cell_type": "code",
   "execution_count": 755,
   "metadata": {},
   "outputs": [],
   "source": [
    "cols = list(df_accept.select_dtypes(include=[\"int64\", \"float64\"]).columns)\n",
    "num_cols_iv = []\n",
    "\n",
    "for col in cols:\n",
    "    num_cols_iv.append(str(col) + \"_range\")\n",
    "    df_accept[str(col) + \"_range\"] = pd.cut(df_accept[col], bins=10, include_lowest=True)"
   ]
  },
  {
   "cell_type": "code",
   "execution_count": 756,
   "metadata": {},
   "outputs": [],
   "source": [
    "num_cols_iv.remove(\"target_range\")"
   ]
  },
  {
   "cell_type": "code",
   "execution_count": 757,
   "metadata": {},
   "outputs": [],
   "source": [
    "num_cols_iv.append(\"target\")"
   ]
  },
  {
   "cell_type": "code",
   "execution_count": 758,
   "metadata": {},
   "outputs": [
    {
     "name": "stderr",
     "output_type": "stream",
     "text": [
      "/home/alexander/PythonProjects/MO/venb/lib/python3.8/site-packages/pandas/core/series.py:726: RuntimeWarning: divide by zero encountered in log\n",
      "  result = getattr(ufunc, method)(*inputs, **kwargs)\n",
      "/home/alexander/PythonProjects/MO/venb/lib/python3.8/site-packages/pandas/core/series.py:726: RuntimeWarning: divide by zero encountered in log\n",
      "  result = getattr(ufunc, method)(*inputs, **kwargs)\n"
     ]
    }
   ],
   "source": [
    "for col in num_cols_iv[:-1]:\n",
    "    df_temp = get_WOE(df_accept[num_cols_iv], col, \"target\")\n",
    "    temp_dict = pd.Series(df_temp.WoE.values, index=df_temp.Value.astype(str)).to_dict()\n",
    "    df_accept[col] = df_accept[col].astype(str).map(temp_dict)"
   ]
  },
  {
   "cell_type": "code",
   "execution_count": 759,
   "metadata": {},
   "outputs": [],
   "source": [
    "X = df_accept[num_cols_iv]"
   ]
  },
  {
   "cell_type": "code",
   "execution_count": 760,
   "metadata": {},
   "outputs": [],
   "source": [
    "y = X.target"
   ]
  },
  {
   "cell_type": "code",
   "execution_count": 761,
   "metadata": {},
   "outputs": [],
   "source": [
    "X = X.drop(columns = [\"target\"])"
   ]
  },
  {
   "cell_type": "code",
   "execution_count": 762,
   "metadata": {},
   "outputs": [],
   "source": [
    "X_train, X_test, y_train, y_test = train_test_split(X, y, test_size=0.1, random_state=42, stratify=y)"
   ]
  },
  {
   "cell_type": "code",
   "execution_count": 763,
   "metadata": {},
   "outputs": [],
   "source": [
    "from sklearn.linear_model import LogisticRegression\n",
    "from sklearn.metrics import roc_auc_score"
   ]
  },
  {
   "cell_type": "code",
   "execution_count": 764,
   "metadata": {},
   "outputs": [],
   "source": [
    "logreg = LogisticRegression(C=12)"
   ]
  },
  {
   "cell_type": "code",
   "execution_count": 793,
   "metadata": {},
   "outputs": [],
   "source": [
    "numeric = num_cols_iv\n",
    "numeric.remove(\"target\")\n",
    "categorical = []"
   ]
  },
  {
   "cell_type": "code",
   "execution_count": 772,
   "metadata": {},
   "outputs": [],
   "source": [
    "numeric_transformer = Pipeline(steps=[\n",
    "    (\"fillna_num\", SimpleImputer(strategy=\"mean\")),\n",
    "    (\"scaler\", StandardScaler()),\n",
    "])\n",
    "\n",
    "categorical_transformer = Pipeline(steps=[\n",
    "    (\"fillna\", SimpleImputer(strategy=\"most_frequent\")),\n",
    "    (\"ohe\", OneHotEncoder(handle_unknown=\"ignore\")),\n",
    "])\n",
    "\n",
    "preprocessor = ColumnTransformer(\n",
    "    transformers=[\n",
    "        (\"num\", numeric_transformer, numeric),\n",
    "        (\"cat\", categorical_transformer, categorical),\n",
    "    ]\n",
    ")\n",
    "\n",
    "pipeline = Pipeline(\n",
    "    steps=[\n",
    "        (\"preproc\", preprocessor),\n",
    "        (\n",
    "            \"logreg\",\n",
    "            logreg,\n",
    "        ),\n",
    "    ]\n",
    ")"
   ]
  },
  {
   "cell_type": "code",
   "execution_count": 773,
   "metadata": {},
   "outputs": [],
   "source": [
    "model = pipeline.fit(X_train, y_train)"
   ]
  },
  {
   "cell_type": "code",
   "execution_count": 774,
   "metadata": {},
   "outputs": [
    {
     "data": {
      "text/plain": [
       "0.7404022060801723"
      ]
     },
     "execution_count": 774,
     "metadata": {},
     "output_type": "execute_result"
    }
   ],
   "source": [
    "roc_auc_score(y_test, model.predict_proba(X_test)[:, 1])"
   ]
  },
  {
   "cell_type": "code",
   "execution_count": 775,
   "metadata": {},
   "outputs": [
    {
     "name": "stdout",
     "output_type": "stream",
     "text": [
      "GINI = 0.48080441216034453\n"
     ]
    }
   ],
   "source": [
    "print(\"GINI = \" + str(2 * roc_auc_score(y_test, model.predict_proba(X_test)[:, 1]) - 1))"
   ]
  },
  {
   "cell_type": "code",
   "execution_count": 776,
   "metadata": {},
   "outputs": [
    {
     "data": {
      "text/plain": [
       "0.0273972602739726"
      ]
     },
     "execution_count": 776,
     "metadata": {},
     "output_type": "execute_result"
    }
   ],
   "source": [
    "f1_score(y_test, model.predict(X_test))"
   ]
  },
  {
   "cell_type": "markdown",
   "metadata": {},
   "source": [
    "### 6. Построить логистическую регрессию на всех заявках с преобразованными переменными WoE. Какое значение GINI, F1? Изменилась ли модель? "
   ]
  },
  {
   "cell_type": "code",
   "execution_count": 777,
   "metadata": {},
   "outputs": [],
   "source": [
    "cols = list(df_extended.select_dtypes(include=[\"int64\", \"float64\"]).columns)\n",
    "num_cols_iv = []\n",
    "\n",
    "for col in cols:\n",
    "    num_cols_iv.append(str(col) + \"_range\")\n",
    "    df_extended[str(col) + \"_range\"] = pd.cut(df_extended[col], bins=20, include_lowest=True)"
   ]
  },
  {
   "cell_type": "code",
   "execution_count": 778,
   "metadata": {},
   "outputs": [],
   "source": [
    "num_cols_iv.remove(\"target_range\")"
   ]
  },
  {
   "cell_type": "code",
   "execution_count": 779,
   "metadata": {},
   "outputs": [],
   "source": [
    "num_cols_iv.append(\"target\")"
   ]
  },
  {
   "cell_type": "code",
   "execution_count": 780,
   "metadata": {},
   "outputs": [
    {
     "name": "stderr",
     "output_type": "stream",
     "text": [
      "/home/alexander/PythonProjects/MO/venb/lib/python3.8/site-packages/pandas/core/series.py:726: RuntimeWarning: divide by zero encountered in log\n",
      "  result = getattr(ufunc, method)(*inputs, **kwargs)\n",
      "/home/alexander/PythonProjects/MO/venb/lib/python3.8/site-packages/pandas/core/series.py:726: RuntimeWarning: divide by zero encountered in log\n",
      "  result = getattr(ufunc, method)(*inputs, **kwargs)\n"
     ]
    }
   ],
   "source": [
    "for col in num_cols_iv[:-1]:\n",
    "    df_temp = get_WOE(df_extended[num_cols_iv], col, \"target\")\n",
    "    temp_dict = pd.Series(df_temp.WoE.values, index=df_temp.Value.astype(str)).to_dict()\n",
    "    df_extended[col] = df_extended[col].astype(str).map(temp_dict)"
   ]
  },
  {
   "cell_type": "code",
   "execution_count": 781,
   "metadata": {},
   "outputs": [],
   "source": [
    "X = df_extended[num_cols_iv]"
   ]
  },
  {
   "cell_type": "code",
   "execution_count": 782,
   "metadata": {},
   "outputs": [],
   "source": [
    "y = X.target"
   ]
  },
  {
   "cell_type": "code",
   "execution_count": 783,
   "metadata": {},
   "outputs": [],
   "source": [
    "X = X.drop(columns = [\"target\"])"
   ]
  },
  {
   "cell_type": "code",
   "execution_count": 784,
   "metadata": {},
   "outputs": [],
   "source": [
    "X_train, X_test, y_train, y_test = train_test_split(X, y, test_size=0.1, random_state=42, stratify=y)"
   ]
  },
  {
   "cell_type": "code",
   "execution_count": 785,
   "metadata": {},
   "outputs": [],
   "source": [
    "logreg = LogisticRegression(C=20)"
   ]
  },
  {
   "cell_type": "code",
   "execution_count": 786,
   "metadata": {},
   "outputs": [],
   "source": [
    "numeric_transformer = Pipeline(steps=[\n",
    "    (\"fillna_num\", SimpleImputer(strategy=\"mean\")),\n",
    "    (\"scaler\", StandardScaler()),\n",
    "])\n",
    "\n",
    "categorical_transformer = Pipeline(steps=[\n",
    "    (\"fillna\", SimpleImputer(strategy=\"most_frequent\")),\n",
    "    (\"ohe\", OneHotEncoder(handle_unknown=\"ignore\")),\n",
    "])\n",
    "\n",
    "preprocessor = ColumnTransformer(\n",
    "    transformers=[\n",
    "        (\"num\", numeric_transformer, numeric),\n",
    "        (\"cat\", categorical_transformer, categorical),\n",
    "    ]\n",
    ")\n",
    "\n",
    "pipeline = Pipeline(\n",
    "    steps=[\n",
    "        (\"preproc\", preprocessor),\n",
    "        (\n",
    "            \"logreg\",\n",
    "            logreg,\n",
    "        ),\n",
    "    ]\n",
    ")"
   ]
  },
  {
   "cell_type": "code",
   "execution_count": 787,
   "metadata": {},
   "outputs": [],
   "source": [
    "numeric = num_cols_iv\n",
    "numeric.remove(\"target\")"
   ]
  },
  {
   "cell_type": "code",
   "execution_count": 788,
   "metadata": {},
   "outputs": [],
   "source": [
    "categorical = []"
   ]
  },
  {
   "cell_type": "code",
   "execution_count": 789,
   "metadata": {},
   "outputs": [],
   "source": [
    "model = pipeline.fit(X_train, y_train)"
   ]
  },
  {
   "cell_type": "code",
   "execution_count": 790,
   "metadata": {},
   "outputs": [
    {
     "data": {
      "text/plain": [
       "0.7937830259894316"
      ]
     },
     "execution_count": 790,
     "metadata": {},
     "output_type": "execute_result"
    }
   ],
   "source": [
    "roc_auc_score(y_test, model.predict_proba(X_test)[:, 1])"
   ]
  },
  {
   "cell_type": "code",
   "execution_count": 791,
   "metadata": {},
   "outputs": [
    {
     "name": "stdout",
     "output_type": "stream",
     "text": [
      "GINI = 0.5875660519788632\n"
     ]
    }
   ],
   "source": [
    "print(\"GINI = \" + str(2 * roc_auc_score(y_test, model.predict_proba(X_test)[:, 1]) - 1))"
   ]
  },
  {
   "cell_type": "code",
   "execution_count": 792,
   "metadata": {},
   "outputs": [
    {
     "data": {
      "text/plain": [
       "0.017699115044247787"
      ]
     },
     "execution_count": 792,
     "metadata": {},
     "output_type": "execute_result"
    }
   ],
   "source": [
    "f1_score(y_test, model.predict(X_test))"
   ]
  }
 ],
 "metadata": {
  "kernelspec": {
   "display_name": "projectname",
   "language": "python",
   "name": "projectname"
  },
  "language_info": {
   "codemirror_mode": {
    "name": "ipython",
    "version": 3
   },
   "file_extension": ".py",
   "mimetype": "text/x-python",
   "name": "python",
   "nbconvert_exporter": "python",
   "pygments_lexer": "ipython3",
   "version": "3.8.5"
  }
 },
 "nbformat": 4,
 "nbformat_minor": 4
}
